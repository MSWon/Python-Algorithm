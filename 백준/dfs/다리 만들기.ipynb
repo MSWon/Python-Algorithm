{
 "cells": [
  {
   "cell_type": "markdown",
   "metadata": {},
   "source": [
    "# 백준 문제 2146 (다리 만들기)\n",
    "URL : https://www.acmicpc.net/problem/2146"
   ]
  },
  {
   "cell_type": "code",
   "execution_count": 1,
   "metadata": {},
   "outputs": [
    {
     "name": "stdout",
     "output_type": "stream",
     "text": [
      "10\n",
      "1 1 1 0 0 0 0 1 1 1\n",
      "1 1 1 1 0 0 0 0 1 1\n",
      "1 0 1 1 0 0 0 0 1 1\n",
      "0 0 1 1 1 0 0 0 0 1\n",
      "0 0 0 1 0 0 0 0 0 1\n",
      "0 0 0 0 0 0 0 0 0 1\n",
      "0 0 0 0 0 0 0 0 0 0\n",
      "0 0 0 0 1 1 0 0 0 0\n",
      "0 0 0 0 1 1 1 0 0 0\n",
      "0 0 0 0 0 0 0 0 0 0\n"
     ]
    }
   ],
   "source": [
    "import sys\n",
    "\n",
    "sys.setrecursionlimit(10**8)\n",
    "\n",
    "N = int(input())\n",
    "input_array = []\n",
    "for k in range(N):\n",
    "    input_array.append(list(map(int, sys.stdin.readline().split(\" \"))))"
   ]
  },
  {
   "cell_type": "code",
   "execution_count": 2,
   "metadata": {},
   "outputs": [],
   "source": [
    "## dfs로 좌표 구하기\n",
    "def dfs(array, x, y, coord_list=[]):\n",
    "    array[x][y] = -1 ## 방문한곳 체크\n",
    "    coord_list.append([x,y]) ## 좌표 추가\n",
    "    dx = [1,-1,0,0]\n",
    "    dy = [0,0,1,-1]\n",
    "    \n",
    "    for i in range(4):\n",
    "        new_x = x + dx[i]\n",
    "        new_y = y + dy[i]\n",
    "        if(new_x>=0 and new_x<N and new_y>=0 and new_y<N):\n",
    "            if(array[new_x][new_y] == 1):\n",
    "                dfs(array, new_x, new_y, coord_list)\n",
    "    return coord_list"
   ]
  },
  {
   "cell_type": "code",
   "execution_count": 3,
   "metadata": {},
   "outputs": [],
   "source": [
    "## 두 섬간의 최소 경로 구하기\n",
    "def shortest_path(island1, island2):\n",
    "    min_path = 10000000\n",
    "    for coord1 in island1:\n",
    "        for coord2 in island2:\n",
    "            path_length = abs(coord1[0]-coord2[0])+abs(coord1[1]-coord2[1])-1\n",
    "            if(path_length <= min_path):\n",
    "                min_path = path_length\n",
    "    return min_path"
   ]
  },
  {
   "cell_type": "code",
   "execution_count": 4,
   "metadata": {},
   "outputs": [
    {
     "name": "stdout",
     "output_type": "stream",
     "text": [
      "[[[0, 0], [1, 0], [2, 0], [1, 1], [0, 1], [0, 2], [1, 2], [2, 2], [3, 2], [3, 3], [4, 3], [2, 3], [1, 3], [3, 4]], [[0, 7], [0, 8], [1, 8], [2, 8], [2, 9], [3, 9], [4, 9], [5, 9], [1, 9], [0, 9]], [[7, 4], [8, 4], [8, 5], [7, 5], [8, 6]]]\n"
     ]
    }
   ],
   "source": [
    "## 각 섬마다 좌표 구해서 리스트에 넣기\n",
    "island = []\n",
    "for i in range(N):\n",
    "    for j in range(N):\n",
    "        if(input_array[i][j] == 1):\n",
    "            island.append(dfs(input_array, i, j, []))\n",
    "print(island)"
   ]
  },
  {
   "cell_type": "code",
   "execution_count": 5,
   "metadata": {},
   "outputs": [
    {
     "name": "stdout",
     "output_type": "stream",
     "text": [
      "3\n"
     ]
    }
   ],
   "source": [
    "## 두 섬간의 최소 경로를 다 구해서 최종적으로 가장 작은 경로 반환\n",
    "answer = 1000000\n",
    "for i in range(0, len(island)-1):\n",
    "    for j in range(i+1, len(island)):\n",
    "        path = shortest_path(island[i], island[j])\n",
    "        if(path <= answer):\n",
    "            answer = path\n",
    "\n",
    "print(answer)"
   ]
  },
  {
   "cell_type": "code",
   "execution_count": null,
   "metadata": {},
   "outputs": [],
   "source": []
  }
 ],
 "metadata": {
  "kernelspec": {
   "display_name": "Python 3",
   "language": "python",
   "name": "python3"
  },
  "language_info": {
   "codemirror_mode": {
    "name": "ipython",
    "version": 3
   },
   "file_extension": ".py",
   "mimetype": "text/x-python",
   "name": "python",
   "nbconvert_exporter": "python",
   "pygments_lexer": "ipython3",
   "version": "3.7.3"
  }
 },
 "nbformat": 4,
 "nbformat_minor": 2
}
