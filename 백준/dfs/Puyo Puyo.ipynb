{
 "cells": [
  {
   "cell_type": "markdown",
   "metadata": {},
   "source": [
    "## 백준 문제 11559번 (Puyo Puyo)\n",
    "URL : https://www.acmicpc.net/problem/9663"
   ]
  },
  {
   "cell_type": "code",
   "execution_count": 1,
   "metadata": {
    "collapsed": true
   },
   "outputs": [],
   "source": [
    "import sys\n",
    "import copy\n",
    "import numpy as np ## 프린트 결과 보려고 하는거 백준에서는 쓰면 안됨"
   ]
  },
  {
   "cell_type": "code",
   "execution_count": 2,
   "metadata": {
    "collapsed": true
   },
   "outputs": [],
   "source": [
    "## dfs를 이용\n",
    "def dfs(array, x, y, coord=[], count=1):   \n",
    "    cmp = copy.deepcopy(array[x][y])\n",
    "    array[x][y] = \".\"  ## 현재 방문한 곳을 '.' 로 변환 \n",
    "    coord += [(x,y)]   ## 방문한 좌표를 저장\n",
    "    coord = sorted(coord, key=lambda x: x[1])\n",
    "\n",
    "    dx = [1,-1,0,0]\n",
    "    dy = [0,0,1,-1]\n",
    "\n",
    "    for i in range(4):\n",
    "        new_x = x+dx[i]\n",
    "        new_y = y+dy[i]       \n",
    "        if(new_x>=0 and new_x<12 and new_y>=0 and new_y<6):\n",
    "            if(array[new_x][new_y] == cmp): ## 상하좌우의 값이 현재의 값과 일치 할 때\n",
    "                count,coord = dfs(array, new_x, new_y, coord, count+1) ## 함수 호출 할 때마다 count+1 씩 해주고 count,coord반환            \n",
    "    return count,coord"
   ]
  },
  {
   "cell_type": "code",
   "execution_count": 3,
   "metadata": {
    "collapsed": true
   },
   "outputs": [],
   "source": [
    "## 터진 뿌요들을 아래로 shifting 해주는 함수\n",
    "def shift_array(array):\n",
    "    cpy_array = copy.deepcopy(array)\n",
    "    for col in range(6):\n",
    "        for row in range(11,-1,-1):  ## 아래서부터 위로\n",
    "            if(cpy_array[row][col] == \".\"):\n",
    "                for up_row in range(row-1, -1, -1):\n",
    "                    if(cpy_array[up_row][col] != \".\"):\n",
    "                        cpy_array[row][col] = cpy_array[up_row][col]\n",
    "                        cpy_array[up_row][col] = \".\"\n",
    "                        break\n",
    "    return cpy_array"
   ]
  },
  {
   "cell_type": "code",
   "execution_count": 4,
   "metadata": {},
   "outputs": [
    {
     "name": "stdout",
     "output_type": "stream",
     "text": [
      "......\n",
      "......\n",
      "......\n",
      "......\n",
      "......\n",
      "......\n",
      "......\n",
      "......\n",
      "...YP.\n",
      ".PYYYP\n",
      "PBPPPR\n",
      "BBBRRR\n"
     ]
    }
   ],
   "source": [
    "## 입력 \n",
    "array = []\n",
    "for i in range(12):\n",
    "    array.append(list(sys.stdin.readline()))"
   ]
  },
  {
   "cell_type": "code",
   "execution_count": 5,
   "metadata": {},
   "outputs": [
    {
     "name": "stdout",
     "output_type": "stream",
     "text": [
      "Count : 0\n",
      "[['.' '.' '.' '.' '.' '.']\n",
      " ['.' '.' '.' '.' '.' '.']\n",
      " ['.' '.' '.' '.' '.' '.']\n",
      " ['.' '.' '.' '.' '.' '.']\n",
      " ['.' '.' '.' '.' '.' '.']\n",
      " ['.' '.' '.' '.' '.' '.']\n",
      " ['.' '.' '.' '.' '.' '.']\n",
      " ['.' '.' '.' '.' '.' '.']\n",
      " ['.' '.' '.' 'Y' 'P' '.']\n",
      " ['.' 'P' 'Y' 'Y' 'Y' 'P']\n",
      " ['P' 'B' 'P' 'P' 'P' 'R']\n",
      " ['B' 'B' 'B' 'R' 'R' 'R']]\n",
      "Count : 1\n",
      "[['.' '.' '.' '.' '.' '.']\n",
      " ['.' '.' '.' '.' '.' '.']\n",
      " ['.' '.' '.' '.' '.' '.']\n",
      " ['.' '.' '.' '.' '.' '.']\n",
      " ['.' '.' '.' '.' '.' '.']\n",
      " ['.' '.' '.' '.' '.' '.']\n",
      " ['.' '.' '.' '.' '.' '.']\n",
      " ['.' '.' '.' '.' '.' '.']\n",
      " ['.' '.' '.' '.' '.' '.']\n",
      " ['.' '.' '.' '.' '.' '.']\n",
      " ['.' '.' '.' '.' 'P' '.']\n",
      " ['P' 'P' 'P' 'P' 'P' 'P']]\n",
      "Count : 2\n",
      "[['.' '.' '.' '.' '.' '.']\n",
      " ['.' '.' '.' '.' '.' '.']\n",
      " ['.' '.' '.' '.' '.' '.']\n",
      " ['.' '.' '.' '.' '.' '.']\n",
      " ['.' '.' '.' '.' '.' '.']\n",
      " ['.' '.' '.' '.' '.' '.']\n",
      " ['.' '.' '.' '.' '.' '.']\n",
      " ['.' '.' '.' '.' '.' '.']\n",
      " ['.' '.' '.' '.' '.' '.']\n",
      " ['.' '.' '.' '.' '.' '.']\n",
      " ['.' '.' '.' '.' '.' '.']\n",
      " ['.' '.' '.' '.' '.' '.']]\n"
     ]
    }
   ],
   "source": [
    "cpy_array = copy.deepcopy(array)\n",
    "\n",
    "count = 0\n",
    "print(\"Count : {}\".format(count))\n",
    "print(np.array(cpy_array))\n",
    "\n",
    "while(1):\n",
    "    ## 뿌요가 터지는 좌표들 저장\n",
    "    coord_list = []\n",
    "    for i in range(11,-1,-1):\n",
    "        for j in range(0, 6):\n",
    "            if(cpy_array[i][j] != '.'):\n",
    "                cpy_alpha = copy.deepcopy(cpy_array[i][j])\n",
    "                cnt, coord = dfs(cpy_array, i, j, coord=[], count=1)\n",
    "                if(cnt >=4):\n",
    "                    coord_list += coord\n",
    "                else:\n",
    "                    for x,y in coord:\n",
    "                        cpy_array[x][y] = cpy_alpha\n",
    "                    \n",
    "    ## 터진 좌표들에 대해서 밑으로 shift\n",
    "    if(len(coord_list) != 0):    \n",
    "        cpy_array = shift_array(cpy_array)        \n",
    "        count += 1\n",
    "        print(\"Count : {}\".format(count))\n",
    "        print(np.array(cpy_array))        \n",
    "    else: ## 터질게 없음 ==> break\n",
    "        break"
   ]
  },
  {
   "cell_type": "code",
   "execution_count": null,
   "metadata": {
    "collapsed": true
   },
   "outputs": [],
   "source": []
  }
 ],
 "metadata": {
  "kernelspec": {
   "display_name": "Python 3",
   "language": "python",
   "name": "python3"
  },
  "language_info": {
   "codemirror_mode": {
    "name": "ipython",
    "version": 3
   },
   "file_extension": ".py",
   "mimetype": "text/x-python",
   "name": "python",
   "nbconvert_exporter": "python",
   "pygments_lexer": "ipython3",
   "version": "3.6.3"
  }
 },
 "nbformat": 4,
 "nbformat_minor": 2
}
