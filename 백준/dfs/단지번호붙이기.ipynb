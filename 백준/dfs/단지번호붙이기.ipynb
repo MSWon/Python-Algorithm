{
 "cells": [
  {
   "cell_type": "code",
   "execution_count": 1,
   "metadata": {
    "collapsed": true
   },
   "outputs": [],
   "source": [
    "## 백준 문제 2667번 (단지번호붙이기) ##\n",
    "## URL : https://www.acmicpc.net/problem/2667"
   ]
  },
  {
   "cell_type": "code",
   "execution_count": 2,
   "metadata": {
    "collapsed": true
   },
   "outputs": [],
   "source": [
    "def dfs_house(array, count, x, y):\n",
    "    array[x][y] = 0 ## 이미 카운팅 했으니 0으로 바꿈\n",
    "    len_x = len(array[0])\n",
    "    len_y = len(array)\n",
    "    \n",
    "    dx = [1, -1, 0, 0] ## 오른쪽, 왼쪽, 위, 아래\n",
    "    dy = [0, 0, 1, -1] ## 오른쪽, 왼쪽, 위, 아래\n",
    "    \n",
    "    for i in range(len(dx)):\n",
    "        \n",
    "        new_x = x + dx[i]\n",
    "        new_y = y + dy[i]\n",
    "        \n",
    "        if(new_x>=0 and new_x<len_x and new_y>=0 and new_y<len_y): ## 범위 만족 확인\n",
    "            if(array[new_x][new_y]==1):\n",
    "                count = dfs_house(array, count+1, new_x, new_y)   \n",
    "    return count"
   ]
  },
  {
   "cell_type": "code",
   "execution_count": 3,
   "metadata": {},
   "outputs": [
    {
     "name": "stdout",
     "output_type": "stream",
     "text": [
      "7\n",
      "0110100\n",
      "0110101\n",
      "1110101\n",
      "0000111\n",
      "0100000\n",
      "0111110\n",
      "0111000\n"
     ]
    }
   ],
   "source": [
    "N = int(input())\n",
    "array = []\n",
    "for n in range(N):\n",
    "    int_list = input()\n",
    "    int_list = [int(x) for x in int_list]\n",
    "    array.append(int_list)"
   ]
  },
  {
   "cell_type": "code",
   "execution_count": 4,
   "metadata": {
    "collapsed": true
   },
   "outputs": [],
   "source": [
    "result_list = []\n",
    "\n",
    "for i in range(N):\n",
    "    for j in range(N):\n",
    "        if(array[i][j] == 1):\n",
    "            result_list.append(dfs_house(array, 1, i,j))\n",
    "\n",
    "result_list = sorted(result_list)"
   ]
  },
  {
   "cell_type": "code",
   "execution_count": 5,
   "metadata": {},
   "outputs": [
    {
     "name": "stdout",
     "output_type": "stream",
     "text": [
      "3\n",
      "7\n",
      "8\n",
      "9\n"
     ]
    }
   ],
   "source": [
    "print(len(result_list))\n",
    "for num in result_list:\n",
    "    print(num)"
   ]
  },
  {
   "cell_type": "code",
   "execution_count": null,
   "metadata": {
    "collapsed": true
   },
   "outputs": [],
   "source": []
  }
 ],
 "metadata": {
  "kernelspec": {
   "display_name": "Python 3",
   "language": "python",
   "name": "python3"
  },
  "language_info": {
   "codemirror_mode": {
    "name": "ipython",
    "version": 3
   },
   "file_extension": ".py",
   "mimetype": "text/x-python",
   "name": "python",
   "nbconvert_exporter": "python",
   "pygments_lexer": "ipython3",
   "version": "3.6.3"
  }
 },
 "nbformat": 4,
 "nbformat_minor": 2
}
