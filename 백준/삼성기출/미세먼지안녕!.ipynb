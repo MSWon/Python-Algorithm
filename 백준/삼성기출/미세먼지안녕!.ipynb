{
 "cells": [
  {
   "cell_type": "markdown",
   "metadata": {},
   "source": [
    "# 백준 문제 17144 (미세먼지 안녕!)\n",
    "URL: https://www.acmicpc.net/problem/17144"
   ]
  },
  {
   "cell_type": "code",
   "execution_count": 1,
   "metadata": {
    "collapsed": true
   },
   "outputs": [],
   "source": [
    "import copy\n",
    "import sys"
   ]
  },
  {
   "cell_type": "code",
   "execution_count": 2,
   "metadata": {
    "collapsed": true
   },
   "outputs": [],
   "source": [
    "## 미세먼지를 확산시키는 함수\n",
    "def diffusion(graph):       \n",
    "    cpy_graph = copy.deepcopy(graph)\n",
    "    send_graph = [[0]*C for i in range(R)]  ## 미세먼지 보낸거\n",
    "    \n",
    "    dx = [1,-1,0,0]\n",
    "    dy = [0,0,1,-1]\n",
    "    \n",
    "    for x in range(R):\n",
    "        for y in range(C):\n",
    "            if(cpy_graph[x][y] != 0): ## 현재위치가 미세먼지이면\n",
    "                current = cpy_graph[x][y] ## 현재위치의 미세먼지\n",
    "                ## 동서남북 체크\n",
    "                p = 0 ## 방향개수\n",
    "                for i in range(4):\n",
    "                    new_x = x+dx[i]\n",
    "                    new_y = y+dy[i]\n",
    "                    \n",
    "                    if(new_x>=0 and new_x<R and new_y>=0 and new_y<C):\n",
    "                        if(cpy_graph[new_x][new_y] != -1):\n",
    "                            p += 1\n",
    "                            sent = send_graph[new_x][new_y]\n",
    "                            send_graph[new_x][new_y] = sent +int(current/5)\n",
    "                    \n",
    "                ## 남은거 계산\n",
    "                cpy_graph[x][y] = current-int(current/5)*p\n",
    "            \n",
    "    return [[sum(x) for x in zip(cpy_graph[i],send_graph[i])] for i in range(len(cpy_graph))]"
   ]
  },
  {
   "cell_type": "code",
   "execution_count": 3,
   "metadata": {
    "collapsed": true
   },
   "outputs": [],
   "source": [
    "## 공기 청정기 틀어서 바람 순환 시키는 함수\n",
    "def wind_blow(graph):\n",
    "    cpy_graph = copy.deepcopy(graph)\n",
    "    cpy_graph2 = copy.deepcopy(graph)\n",
    "    coord = []\n",
    "    for x in range(R):\n",
    "        for y in range(C):\n",
    "            if(cpy_graph[x][y] == -1):\n",
    "                coord.append((x,y))\n",
    "    ## 반시계 방향\n",
    "    x1,y1 = coord[0]\n",
    "    for j in range(y1+1, C-1): ## 오른쪽\n",
    "        cpy_graph[x1][j+1] = cpy_graph2[x1][j] \n",
    "    cpy_graph[x1][y1+1] = 0  \n",
    "\n",
    "    for i in range(0, x1): ## 위쪽\n",
    "        cpy_graph[i][C-1] = cpy_graph2[i+1][C-1] \n",
    "        \n",
    "    for j in range(0, C-1): ## 왼쪽\n",
    "        cpy_graph[0][j] = cpy_graph2[0][j+1] \n",
    "\n",
    "    for i in range(0, x1-1): ## 아래쪽\n",
    "        cpy_graph[i+1][0] = cpy_graph2[i][0] \n",
    "         \n",
    "    ## 시계방향 \n",
    "    x2,y2 = coord[1]\n",
    "    for j in range(y2+1, C-1): ## 오른쪽\n",
    "        cpy_graph[x2][j+1] = cpy_graph2[x2][j] \n",
    "    cpy_graph[x2][y2+1] = 0  \n",
    "\n",
    "    for i in range(x2, R-1): ## 아래쪽\n",
    "        cpy_graph[i+1][C-1] = cpy_graph2[i][C-1]    \n",
    "                \n",
    "    for j in range(0, C-1): ## 왼쪽\n",
    "        cpy_graph[R-1][j] = cpy_graph2[R-1][j+1] \n",
    "\n",
    "    for i in range(x2+1, R-1): ## 위쪽\n",
    "        cpy_graph[i][0] = cpy_graph2[i+1][0] \n",
    "    \n",
    "    return cpy_graph"
   ]
  },
  {
   "cell_type": "code",
   "execution_count": 4,
   "metadata": {
    "collapsed": true
   },
   "outputs": [],
   "source": [
    "## 미세먼지 농도 계산 함수\n",
    "def cal(graph):\n",
    "    cpy_graph = copy.deepcopy(graph)\n",
    "    result = 0\n",
    "    for i in range(R):\n",
    "        for j in range(C):          \n",
    "            if(cpy_graph[i][j] != -1):\n",
    "                result += cpy_graph[i][j]\n",
    "    return result"
   ]
  },
  {
   "cell_type": "code",
   "execution_count": 6,
   "metadata": {},
   "outputs": [
    {
     "name": "stdout",
     "output_type": "stream",
     "text": [
      "7 8 4\n",
      "0 0 0 0 0 0 0 9\n",
      "0 0 0 0 3 0 0 8\n",
      "-1 0 5 0 0 0 22 0\n",
      "-1 8 0 0 0 0 0 0\n",
      "0 0 0 0 0 10 43 0\n",
      "0 0 5 0 15 0 0 0\n",
      "0 0 40 0 0 0 20 0\n",
      "178\n"
     ]
    }
   ],
   "source": [
    "R,C,T = map(int, input().split())\n",
    "\n",
    "graph = []\n",
    "for i in range(R):\n",
    "    graph.append(list(map(int, sys.stdin.readline().split())))\n",
    "\n",
    "\n",
    "for t in range(T):\n",
    "    graph = diffusion(graph)\n",
    "    graph = wind_blow(graph)\n",
    "\n",
    "print(cal(graph))"
   ]
  },
  {
   "cell_type": "code",
   "execution_count": null,
   "metadata": {
    "collapsed": true
   },
   "outputs": [],
   "source": []
  }
 ],
 "metadata": {
  "kernelspec": {
   "display_name": "Python 3",
   "language": "python",
   "name": "python3"
  },
  "language_info": {
   "codemirror_mode": {
    "name": "ipython",
    "version": 3
   },
   "file_extension": ".py",
   "mimetype": "text/x-python",
   "name": "python",
   "nbconvert_exporter": "python",
   "pygments_lexer": "ipython3",
   "version": "3.6.3"
  }
 },
 "nbformat": 4,
 "nbformat_minor": 2
}
