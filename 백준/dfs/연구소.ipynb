{
 "cells": [
  {
   "cell_type": "code",
   "execution_count": 1,
   "metadata": {
    "collapsed": true
   },
   "outputs": [],
   "source": [
    "## 백준 문제 14502 (연구소)\n",
    "## https://www.acmicpc.net/problem/14502"
   ]
  },
  {
   "cell_type": "code",
   "execution_count": 7,
   "metadata": {
    "collapsed": true
   },
   "outputs": [],
   "source": [
    "import sys\n",
    "import copy"
   ]
  },
  {
   "cell_type": "code",
   "execution_count": 2,
   "metadata": {
    "collapsed": true
   },
   "outputs": [],
   "source": [
    "def dfs_virus(copy_array, x, y):\n",
    "    \n",
    "    copy_array[x][y] = -1\n",
    "    \n",
    "    dx = [1,-1,0,0]\n",
    "    dy = [0,0,1,-1]\n",
    "    \n",
    "    for i in range(4):\n",
    "        new_x = x + dx[i]\n",
    "        new_y = y + dy[i]\n",
    "        \n",
    "        if(new_x>=0 and new_x<N and new_y>=0 and new_y<M):\n",
    "            if(copy_array[new_x][new_y] == 0):\n",
    "                copy_array[new_x][new_y] = -1\n",
    "                dfs_virus(copy_array, new_x, new_y)     \n",
    "    ## 재귀 함수 종료\n",
    "    return"
   ]
  },
  {
   "cell_type": "code",
   "execution_count": 3,
   "metadata": {
    "collapsed": true
   },
   "outputs": [],
   "source": [
    "def get_count(copy_array):\n",
    "    count = 0\n",
    "    for i in range(N):\n",
    "        for j in range(M):\n",
    "            if(copy_array[i][j] == 0):\n",
    "                count += 1\n",
    "    return count"
   ]
  },
  {
   "cell_type": "code",
   "execution_count": 4,
   "metadata": {
    "collapsed": true
   },
   "outputs": [],
   "source": [
    "def set_wall(start=0, depth=0):    \n",
    "    \n",
    "    global max_value    \n",
    "    if(depth == 3):\n",
    "        copy_array = copy.deepcopy(array)\n",
    "        for i in range(N):\n",
    "            for j in range(M):\n",
    "                if(copy_array[i][j] == 2):\n",
    "                    dfs_virus(copy_array, i, j)\n",
    "        \n",
    "        max_value = max(max_value, get_count(copy_array))\n",
    "        ## 재귀함수종료\n",
    "        return\n",
    "    \n",
    "    for i in range(start, N*M):\n",
    "        \n",
    "        x = int(i/M)\n",
    "        y = int(i%M)\n",
    "        \n",
    "        if(array[x][y] == 0):\n",
    "            array[x][y] = 1\n",
    "            set_wall(i+1, depth+1) ## recursion\n",
    "            array[x][y] = 0  ## back"
   ]
  },
  {
   "cell_type": "code",
   "execution_count": 10,
   "metadata": {},
   "outputs": [
    {
     "name": "stdout",
     "output_type": "stream",
     "text": [
      "4 6\n",
      "0 0 0 0 0 0\n",
      "1 0 0 0 0 2\n",
      "1 1 1 0 0 2\n",
      "0 0 0 0 0 2\n"
     ]
    }
   ],
   "source": [
    "first_row = input().split(\" \")\n",
    "\n",
    "N = int(first_row[0])\n",
    "M = int(first_row[1])\n",
    "\n",
    "## array = [list(map(int, sys.stdin.readline().split(\" \"))) for i in range(N)]\n",
    "array = [list(map(int, input().split(\" \"))) for i in range(N)]"
   ]
  },
  {
   "cell_type": "code",
   "execution_count": 11,
   "metadata": {},
   "outputs": [
    {
     "name": "stdout",
     "output_type": "stream",
     "text": [
      "9\n"
     ]
    }
   ],
   "source": [
    "max_value = -10000\n",
    "set_wall(0, 0)\n",
    "\n",
    "print(max_value)"
   ]
  },
  {
   "cell_type": "code",
   "execution_count": 12,
   "metadata": {},
   "outputs": [
    {
     "data": {
      "text/plain": [
       "[[0, 0, 0, 0, 0, 0],\n",
       " [1, 0, 0, 0, 0, 2],\n",
       " [1, 1, 1, 0, 0, 2],\n",
       " [0, 0, 0, 0, 0, 2]]"
      ]
     },
     "execution_count": 12,
     "metadata": {},
     "output_type": "execute_result"
    }
   ],
   "source": [
    "array"
   ]
  },
  {
   "cell_type": "code",
   "execution_count": null,
   "metadata": {
    "collapsed": true
   },
   "outputs": [],
   "source": []
  }
 ],
 "metadata": {
  "kernelspec": {
   "display_name": "Python 3",
   "language": "python",
   "name": "python3"
  },
  "language_info": {
   "codemirror_mode": {
    "name": "ipython",
    "version": 3
   },
   "file_extension": ".py",
   "mimetype": "text/x-python",
   "name": "python",
   "nbconvert_exporter": "python",
   "pygments_lexer": "ipython3",
   "version": "3.6.3"
  }
 },
 "nbformat": 4,
 "nbformat_minor": 2
}
