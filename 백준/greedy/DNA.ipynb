{
 "cells": [
  {
   "cell_type": "markdown",
   "metadata": {},
   "source": [
    "# 백준 문제 1969 (DNA)\n",
    "URL: https://www.acmicpc.net/problem/1969"
   ]
  },
  {
   "cell_type": "code",
   "execution_count": 1,
   "metadata": {},
   "outputs": [
    {
     "name": "stdout",
     "output_type": "stream",
     "text": [
      "4 10\n",
      "ACGTACGTAC\n",
      "CCGTACGTAG\n",
      "GCGTACGTAT\n",
      "TCGTACGTAA\n"
     ]
    }
   ],
   "source": [
    "N, M = map(int, input().split(\" \"))\n",
    "\n",
    "DNA_list = []\n",
    "for i in range(N):\n",
    "    DNA_list.append(list(input()))"
   ]
  },
  {
   "cell_type": "code",
   "execution_count": 2,
   "metadata": {
    "collapsed": true
   },
   "outputs": [],
   "source": [
    "string = \"\"\n",
    "hamming_dist = 0\n",
    "## 각 위치마다 가장 많이 나오는 알파벳을 선정\n",
    "for j in range(M):\n",
    "    count_dict = {}\n",
    "    for i in range(N):\n",
    "        alpha = DNA_list[i][j]\n",
    "        if(alpha not in count_dict):\n",
    "            count_dict[alpha] = 1\n",
    "        else:\n",
    "            count_dict[alpha] += 1    \n",
    "    \n",
    "    sort_by_count = sorted(count_dict.items(), key = lambda x: (-x[1],x[0]))    \n",
    "    best_alpha = sort_by_count[0][0]\n",
    "    best_count = sort_by_count[0][1]\n",
    "    hamming_dist += N - best_count\n",
    "    string += best_alpha"
   ]
  },
  {
   "cell_type": "code",
   "execution_count": 3,
   "metadata": {},
   "outputs": [
    {
     "name": "stdout",
     "output_type": "stream",
     "text": [
      "ACGTACGTAA\n",
      "6\n"
     ]
    }
   ],
   "source": [
    "print(string)\n",
    "print(hamming_dist)"
   ]
  },
  {
   "cell_type": "code",
   "execution_count": null,
   "metadata": {
    "collapsed": true
   },
   "outputs": [],
   "source": []
  }
 ],
 "metadata": {
  "kernelspec": {
   "display_name": "Python 3",
   "language": "python",
   "name": "python3"
  },
  "language_info": {
   "codemirror_mode": {
    "name": "ipython",
    "version": 3
   },
   "file_extension": ".py",
   "mimetype": "text/x-python",
   "name": "python",
   "nbconvert_exporter": "python",
   "pygments_lexer": "ipython3",
   "version": "3.6.2"
  }
 },
 "nbformat": 4,
 "nbformat_minor": 2
}
