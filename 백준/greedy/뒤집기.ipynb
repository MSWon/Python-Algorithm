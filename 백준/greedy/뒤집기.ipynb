{
 "cells": [
  {
   "cell_type": "markdown",
   "metadata": {},
   "source": [
    "# 백준 문제 1439 (뒤집기)\n",
    "URL: https://www.acmicpc.net/problem/1439"
   ]
  },
  {
   "cell_type": "code",
   "execution_count": 2,
   "metadata": {},
   "outputs": [],
   "source": [
    "import copy \n",
    "import sys\n",
    "sys.setrecursionlimit(1000000000)"
   ]
  },
  {
   "cell_type": "code",
   "execution_count": 3,
   "metadata": {
    "collapsed": true
   },
   "outputs": [],
   "source": [
    "## dfs로 구간 파악\n",
    "def dfs(string_list, idx):\n",
    "    cpy_value = copy.deepcopy(string_list[idx]) \n",
    "    string_list[idx] = \"-1\"\n",
    "    \n",
    "    if(idx+1>=0 and idx+1 < len(string_list)):\n",
    "        if(string_list[idx+1] == cpy_value):\n",
    "            dfs(string_list, idx+1)"
   ]
  },
  {
   "cell_type": "code",
   "execution_count": 4,
   "metadata": {},
   "outputs": [
    {
     "name": "stdout",
     "output_type": "stream",
     "text": [
      "0001100\n",
      "1\n"
     ]
    }
   ],
   "source": [
    "str_list = list(sys.stdin.readline())\n",
    "\n",
    "count_dict = {\"0\":0, \"1\":0}\n",
    "\n",
    "for i in range(len(str_list)-1):\n",
    "    if(str_list[i] != \"-1\"):\n",
    "        if(str_list[i] == \"0\"):\n",
    "            count_dict[\"0\"] += 1\n",
    "        else:\n",
    "            count_dict[\"1\"] += 1       \n",
    "        dfs(str_list, i)\n",
    "\n",
    "print(sorted(count_dict.items(), key = lambda x : x[1])[0][1])"
   ]
  },
  {
   "cell_type": "code",
   "execution_count": null,
   "metadata": {
    "collapsed": true
   },
   "outputs": [],
   "source": []
  }
 ],
 "metadata": {
  "kernelspec": {
   "display_name": "Python 3",
   "language": "python",
   "name": "python3"
  },
  "language_info": {
   "codemirror_mode": {
    "name": "ipython",
    "version": 3
   },
   "file_extension": ".py",
   "mimetype": "text/x-python",
   "name": "python",
   "nbconvert_exporter": "python",
   "pygments_lexer": "ipython3",
   "version": "3.6.2"
  }
 },
 "nbformat": 4,
 "nbformat_minor": 2
}
