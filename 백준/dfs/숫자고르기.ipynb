{
 "cells": [
  {
   "cell_type": "markdown",
   "metadata": {},
   "source": [
    "# 백준 문제 2668번 (숫자고르기)\n",
    "URL: https://www.acmicpc.net/problem/2668"
   ]
  },
  {
   "cell_type": "code",
   "execution_count": 1,
   "metadata": {},
   "outputs": [],
   "source": [
    "def dfs_path(graph, start, end, visited=[]):\n",
    "    \n",
    "    visited = visited + [start]\n",
    "    \n",
    "    if(graph[start] == [end]): ## 자기 자신이 나올 때 까지\n",
    "        visited = visited + [end]\n",
    "        paths.append(visited)\n",
    "        \n",
    "    for child in graph[start]:\n",
    "        if child not in visited:\n",
    "            dfs_path(graph, child, end, visited)"
   ]
  },
  {
   "cell_type": "code",
   "execution_count": 2,
   "metadata": {},
   "outputs": [
    {
     "name": "stdout",
     "output_type": "stream",
     "text": [
      "7\n",
      "3\n",
      "1\n",
      "1\n",
      "5\n",
      "5\n",
      "4\n",
      "6\n"
     ]
    }
   ],
   "source": [
    "N = int(input())\n",
    "\n",
    "first = [i for i in range(1,N+1)]\n",
    "second = []\n",
    "\n",
    "for i in range(N):\n",
    "    second.append(int(input()))\n",
    "\n",
    "graph = {}\n",
    "\n",
    "for i in range(N):\n",
    "    n1 = first[i]\n",
    "    n2 = second[i]\n",
    "    if n1 not in graph:\n",
    "        graph[n1] = [n2]\n",
    "    else:\n",
    "        graph[n1].append(n2)"
   ]
  },
  {
   "cell_type": "code",
   "execution_count": 3,
   "metadata": {},
   "outputs": [
    {
     "name": "stdout",
     "output_type": "stream",
     "text": [
      "3\n",
      "1\n",
      "3\n",
      "5\n"
     ]
    }
   ],
   "source": [
    "count = 0\n",
    "answer = []\n",
    "\n",
    "for k in range(1,N+1):\n",
    "    paths = []\n",
    "    dfs_path(graph, k,k, visited=[])\n",
    "    if(paths != []):\n",
    "        count+=1\n",
    "        answer.append(k)\n",
    "\n",
    "print(count)\n",
    "for ans in answer:\n",
    "    print(ans)"
   ]
  },
  {
   "cell_type": "code",
   "execution_count": null,
   "metadata": {},
   "outputs": [],
   "source": []
  }
 ],
 "metadata": {
  "kernelspec": {
   "display_name": "Python 3",
   "language": "python",
   "name": "python3"
  },
  "language_info": {
   "codemirror_mode": {
    "name": "ipython",
    "version": 3
   },
   "file_extension": ".py",
   "mimetype": "text/x-python",
   "name": "python",
   "nbconvert_exporter": "python",
   "pygments_lexer": "ipython3",
   "version": "3.7.3"
  }
 },
 "nbformat": 4,
 "nbformat_minor": 2
}
