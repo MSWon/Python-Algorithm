{
 "cells": [
  {
   "cell_type": "code",
   "execution_count": 1,
   "metadata": {
    "collapsed": true
   },
   "outputs": [],
   "source": [
    "## 백준 문제 9663번 (N-Queen) ##\n",
    "## URL : https://www.acmicpc.net/problem/9663"
   ]
  },
  {
   "cell_type": "code",
   "execution_count": 2,
   "metadata": {
    "collapsed": true
   },
   "outputs": [],
   "source": [
    "def queens(start, N, visited=[]):    \n",
    "    visited = visited + [start]\n",
    "    \n",
    "    if(len(visited)==N):\n",
    "        paths.append(visited)\n",
    "    \n",
    "    check_list = [num for num in range(N)]\n",
    "    \n",
    "    for i in range(len(visited)):\n",
    "        if(visited[i] in check_list): ## 같은 열 제거\n",
    "            check_list.remove(visited[i])\n",
    "        distance = len(visited) - i\n",
    "        if(visited[i] + distance in check_list): ## 오른쪽 대각선 제거\n",
    "            check_list.remove(visited[i] + distance)\n",
    "        if(visited[i] - distance in check_list): ## 왼쪽 대각선 제거\n",
    "            check_list.remove(visited[i] - distance)\n",
    "            \n",
    "    for j in range(N):\n",
    "        if(j in check_list):\n",
    "            queens(j, N, visited)"
   ]
  },
  {
   "cell_type": "code",
   "execution_count": 3,
   "metadata": {
    "collapsed": true
   },
   "outputs": [],
   "source": [
    "def conver2array(int_list):\n",
    "    N = len(int_list)\n",
    "    array = [['X']*N for i in range(N)]\n",
    "    for i in range(N):\n",
    "        array[i][int_list[i]] = 'Q'\n",
    "    return array"
   ]
  },
  {
   "cell_type": "code",
   "execution_count": 4,
   "metadata": {
    "collapsed": true
   },
   "outputs": [],
   "source": [
    "paths = []\n",
    "queens(start=2, N=4, visited=[])"
   ]
  },
  {
   "cell_type": "code",
   "execution_count": 5,
   "metadata": {},
   "outputs": [
    {
     "data": {
      "text/plain": [
       "[[2, 0, 3, 1]]"
      ]
     },
     "execution_count": 5,
     "metadata": {},
     "output_type": "execute_result"
    }
   ],
   "source": [
    "paths"
   ]
  },
  {
   "cell_type": "code",
   "execution_count": 6,
   "metadata": {},
   "outputs": [
    {
     "data": {
      "text/plain": [
       "[['X', 'X', 'Q', 'X'],\n",
       " ['Q', 'X', 'X', 'X'],\n",
       " ['X', 'X', 'X', 'Q'],\n",
       " ['X', 'Q', 'X', 'X']]"
      ]
     },
     "execution_count": 6,
     "metadata": {},
     "output_type": "execute_result"
    }
   ],
   "source": [
    "conver2array(paths[0])"
   ]
  },
  {
   "cell_type": "code",
   "execution_count": 9,
   "metadata": {
    "collapsed": true
   },
   "outputs": [],
   "source": [
    "total_paths = []\n",
    "N = 5\n",
    "\n",
    "for start in range(N):\n",
    "    paths = []\n",
    "    queens(start, N, visited=[])\n",
    "\n",
    "    if(paths != []):\n",
    "        for path in paths:\n",
    "            total_paths.append(conver2array(path))"
   ]
  },
  {
   "cell_type": "code",
   "execution_count": 10,
   "metadata": {},
   "outputs": [
    {
     "data": {
      "text/plain": [
       "[[['Q', 'X', 'X', 'X', 'X'],\n",
       "  ['X', 'X', 'Q', 'X', 'X'],\n",
       "  ['X', 'X', 'X', 'X', 'Q'],\n",
       "  ['X', 'Q', 'X', 'X', 'X'],\n",
       "  ['X', 'X', 'X', 'Q', 'X']],\n",
       " [['Q', 'X', 'X', 'X', 'X'],\n",
       "  ['X', 'X', 'X', 'Q', 'X'],\n",
       "  ['X', 'Q', 'X', 'X', 'X'],\n",
       "  ['X', 'X', 'X', 'X', 'Q'],\n",
       "  ['X', 'X', 'Q', 'X', 'X']],\n",
       " [['X', 'Q', 'X', 'X', 'X'],\n",
       "  ['X', 'X', 'X', 'Q', 'X'],\n",
       "  ['Q', 'X', 'X', 'X', 'X'],\n",
       "  ['X', 'X', 'Q', 'X', 'X'],\n",
       "  ['X', 'X', 'X', 'X', 'Q']],\n",
       " [['X', 'Q', 'X', 'X', 'X'],\n",
       "  ['X', 'X', 'X', 'X', 'Q'],\n",
       "  ['X', 'X', 'Q', 'X', 'X'],\n",
       "  ['Q', 'X', 'X', 'X', 'X'],\n",
       "  ['X', 'X', 'X', 'Q', 'X']],\n",
       " [['X', 'X', 'Q', 'X', 'X'],\n",
       "  ['Q', 'X', 'X', 'X', 'X'],\n",
       "  ['X', 'X', 'X', 'Q', 'X'],\n",
       "  ['X', 'Q', 'X', 'X', 'X'],\n",
       "  ['X', 'X', 'X', 'X', 'Q']],\n",
       " [['X', 'X', 'Q', 'X', 'X'],\n",
       "  ['X', 'X', 'X', 'X', 'Q'],\n",
       "  ['X', 'Q', 'X', 'X', 'X'],\n",
       "  ['X', 'X', 'X', 'Q', 'X'],\n",
       "  ['Q', 'X', 'X', 'X', 'X']],\n",
       " [['X', 'X', 'X', 'Q', 'X'],\n",
       "  ['Q', 'X', 'X', 'X', 'X'],\n",
       "  ['X', 'X', 'Q', 'X', 'X'],\n",
       "  ['X', 'X', 'X', 'X', 'Q'],\n",
       "  ['X', 'Q', 'X', 'X', 'X']],\n",
       " [['X', 'X', 'X', 'Q', 'X'],\n",
       "  ['X', 'Q', 'X', 'X', 'X'],\n",
       "  ['X', 'X', 'X', 'X', 'Q'],\n",
       "  ['X', 'X', 'Q', 'X', 'X'],\n",
       "  ['Q', 'X', 'X', 'X', 'X']],\n",
       " [['X', 'X', 'X', 'X', 'Q'],\n",
       "  ['X', 'Q', 'X', 'X', 'X'],\n",
       "  ['X', 'X', 'X', 'Q', 'X'],\n",
       "  ['Q', 'X', 'X', 'X', 'X'],\n",
       "  ['X', 'X', 'Q', 'X', 'X']],\n",
       " [['X', 'X', 'X', 'X', 'Q'],\n",
       "  ['X', 'X', 'Q', 'X', 'X'],\n",
       "  ['Q', 'X', 'X', 'X', 'X'],\n",
       "  ['X', 'X', 'X', 'Q', 'X'],\n",
       "  ['X', 'Q', 'X', 'X', 'X']]]"
      ]
     },
     "execution_count": 10,
     "metadata": {},
     "output_type": "execute_result"
    }
   ],
   "source": [
    "total_paths"
   ]
  },
  {
   "cell_type": "code",
   "execution_count": 11,
   "metadata": {},
   "outputs": [
    {
     "name": "stdout",
     "output_type": "stream",
     "text": [
      "92\n"
     ]
    }
   ],
   "source": [
    "total_paths = []\n",
    "N = 8\n",
    "\n",
    "for start in range(N):\n",
    "    paths = []\n",
    "    queens(start, N, visited=[])\n",
    "\n",
    "    if(paths != []):\n",
    "        for path in paths:\n",
    "            total_paths.append(conver2array(path))\n",
    "\n",
    "print(len(total_paths))"
   ]
  },
  {
   "cell_type": "code",
   "execution_count": null,
   "metadata": {
    "collapsed": true
   },
   "outputs": [],
   "source": []
  }
 ],
 "metadata": {
  "kernelspec": {
   "display_name": "Python 3",
   "language": "python",
   "name": "python3"
  },
  "language_info": {
   "codemirror_mode": {
    "name": "ipython",
    "version": 3
   },
   "file_extension": ".py",
   "mimetype": "text/x-python",
   "name": "python",
   "nbconvert_exporter": "python",
   "pygments_lexer": "ipython3",
   "version": "3.6.3"
  }
 },
 "nbformat": 4,
 "nbformat_minor": 2
}
